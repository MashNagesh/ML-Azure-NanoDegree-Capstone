{
  "cells": [
    {
      "cell_type": "markdown",
      "source": [
        "# Automated ML\n",
        "\n",
        "Requisite Dependencies for the Project is imported as below"
      ],
      "metadata": {}
    },
    {
      "cell_type": "code",
      "source": [
        "from azureml.core import Workspace\r\n",
        "from azureml.core.experiment import Experiment\r\n",
        "from azureml.data.dataset_factory import TabularDatasetFactory\r\n",
        "from azureml.core import  Dataset\r\n",
        "import shutil\r\n",
        "import os\r\n",
        "import zipfile\r\n",
        "import pandas as pd\r\n",
        "from azureml.train.automl import AutoMLConfig\r\n",
        "import json\r\n",
        "from azureml.widgets import RunDetails\r\n",
        "import joblib"
      ],
      "outputs": [],
      "execution_count": 1,
      "metadata": {
        "gather": {
          "logged": 1627364038388
        },
        "jupyter": {
          "outputs_hidden": false,
          "source_hidden": false
        },
        "nteract": {
          "transient": {
            "deleting": false
          }
        }
      }
    },
    {
      "cell_type": "markdown",
      "source": [
        "## Workspace\r\n",
        "\r\n",
        "Gather Workspace details from the config file and create and Experiment to run the AutoML."
      ],
      "metadata": {
        "nteract": {
          "transient": {
            "deleting": false
          }
        }
      }
    },
    {
      "cell_type": "code",
      "source": [
        "ws = Workspace.from_config()\n",
        "# choose a name for experiment\n",
        "experiment_name = 'automl_capstone_exp'\n",
        "experiment=Experiment(ws, experiment_name)"
      ],
      "outputs": [],
      "execution_count": 2,
      "metadata": {
        "gather": {
          "logged": 1627364044272
        },
        "jupyter": {
          "outputs_hidden": false,
          "source_hidden": false
        },
        "nteract": {
          "transient": {
            "deleting": false
          }
        }
      }
    },
    {
      "cell_type": "markdown",
      "source": [
        "## Dataset\n",
        "\n",
        "### Overview\n",
        "The Dataset that we will be using is called the MNIST dataset.It is a dataset of 60,000 small square 28×28 pixel grayscale images of handwritten single digits between 0 and 9.\n",
        "\n",
        "Goal :To take an image of a handwritten single digit(0-9), and determine what that digit is.\n",
        "\n",
        "\n"
      ],
      "metadata": {}
    },
    {
      "cell_type": "markdown",
      "source": [
        "### Loading the Data from Kaggle"
      ],
      "metadata": {
        "nteract": {
          "transient": {
            "deleting": false
          }
        }
      }
    },
    {
      "cell_type": "code",
      "source": [
        "#Load Data for the AutoML model\r\n",
        "!pip install kaggle"
      ],
      "outputs": [
        {
          "output_type": "stream",
          "name": "stdout",
          "text": [
            "Collecting kaggle\n",
            "  Downloading kaggle-1.5.12.tar.gz (58 kB)\n",
            "\u001b[K     |████████████████████████████████| 58 kB 3.9 MB/s eta 0:00:011\n",
            "\u001b[?25hRequirement already satisfied: six>=1.10 in /anaconda/envs/azureml_py36/lib/python3.6/site-packages (from kaggle) (1.16.0)\n",
            "Requirement already satisfied: certifi in /anaconda/envs/azureml_py36/lib/python3.6/site-packages (from kaggle) (2021.5.30)\n",
            "Requirement already satisfied: python-dateutil in /anaconda/envs/azureml_py36/lib/python3.6/site-packages (from kaggle) (2.8.1)\n",
            "Requirement already satisfied: requests in /anaconda/envs/azureml_py36/lib/python3.6/site-packages (from kaggle) (2.25.1)\n",
            "Requirement already satisfied: tqdm in /anaconda/envs/azureml_py36/lib/python3.6/site-packages (from kaggle) (4.61.1)\n",
            "Collecting python-slugify\n",
            "  Downloading python_slugify-5.0.2-py2.py3-none-any.whl (6.7 kB)\n",
            "Requirement already satisfied: urllib3 in /anaconda/envs/azureml_py36/lib/python3.6/site-packages (from kaggle) (1.25.11)\n",
            "Requirement already satisfied: chardet<5,>=3.0.2 in /anaconda/envs/azureml_py36/lib/python3.6/site-packages (from requests->kaggle) (4.0.0)\n",
            "Requirement already satisfied: idna<3,>=2.5 in /anaconda/envs/azureml_py36/lib/python3.6/site-packages (from requests->kaggle) (2.10)\n",
            "Collecting text-unidecode>=1.3\n",
            "  Downloading text_unidecode-1.3-py2.py3-none-any.whl (78 kB)\n",
            "\u001b[K     |████████████████████████████████| 78 kB 5.2 MB/s  eta 0:00:01\n",
            "\u001b[?25hBuilding wheels for collected packages: kaggle\n",
            "  Building wheel for kaggle (setup.py) ... \u001b[?25l-\b \b\\\b \bdone\n",
            "\u001b[?25h  Created wheel for kaggle: filename=kaggle-1.5.12-py3-none-any.whl size=73053 sha256=93f2ddadc9a49985d12e7bb37830ce3f7782dcc8d59528ca890e901a2c47cff3\n",
            "  Stored in directory: /home/azureuser/.cache/pip/wheels/77/47/e4/44a4ba1b7dfd53faaa35f59f1175e123b213ff401a8a56876b\n",
            "Successfully built kaggle\n",
            "Installing collected packages: text-unidecode, python-slugify, kaggle\n",
            "Successfully installed kaggle-1.5.12 python-slugify-5.0.2 text-unidecode-1.3\n"
          ]
        }
      ],
      "execution_count": 3,
      "metadata": {
        "collapsed": true,
        "jupyter": {
          "source_hidden": false,
          "outputs_hidden": false
        },
        "nteract": {
          "transient": {
            "deleting": false
          }
        },
        "gather": {
          "logged": 1627364053532
        }
      }
    },
    {
      "cell_type": "code",
      "source": [
        "#Create Data Folder and Kaggle Folder (Ref:https://inclusive-ai.medium.com/how-to-use-kaggle-api-with-azure-machine-learning-service-da056708fc5a)\r\n",
        "data_folder = os.path.join(os.getcwd(),'data')\r\n",
        "os.makedirs(data_folder, exist_ok=True)\r\n",
        "kaggle_folder = os.path.join(os.getcwd(), '.kaggle')\r\n",
        "os.makedirs(kaggle_folder, exist_ok=True)\r\n",
        "kaggle_key_folder = '/home/azureuser/.kaggle'\r\n",
        "os.makedirs(kaggle_key_folder, exist_ok=True)"
      ],
      "outputs": [],
      "execution_count": 4,
      "metadata": {
        "collapsed": true,
        "jupyter": {
          "source_hidden": false,
          "outputs_hidden": false
        },
        "nteract": {
          "transient": {
            "deleting": false
          }
        },
        "gather": {
          "logged": 1627364055737
        }
      }
    },
    {
      "cell_type": "code",
      "source": [
        "#Upload the kaggle.json(Generated from Kaggle account Page) generated from kaggle in .kaggle folder\r\n",
        "\r\n",
        "kaggle_file = kaggle_folder + '/kaggle.json'\r\n",
        "shutil.copy(kaggle_file, kaggle_key_folder)\r\n",
        "os.remove(kaggle_file)\r\n",
        "!chmod 600 /home/azureuser/.kaggle/kaggle.json\r\n",
        "\r\n",
        "#Data Download\r\n",
        "import kaggle\r\n",
        "!kaggle --version\r\n",
        "!kaggle competitions download -c digit-recognizer\r\n",
        "with zipfile.ZipFile(\"digit-recognizer.zip\",\"r\") as zip_ref:\r\n",
        "    zip_ref.extractall(data_folder)\r\n",
        "\r\n",
        "\r\n",
        "#View the Unzipped Files\r\n",
        "for root, directories, files in os.walk(data_folder, topdown=True):\r\n",
        "    for name in files:\r\n",
        "        print(os.path.join(root, name))"
      ],
      "outputs": [
        {
          "output_type": "stream",
          "name": "stdout",
          "text": [
            "Kaggle API 1.5.12\n",
            "Downloading digit-recognizer.zip to /mnt/batch/tasks/shared/LS_root/mounts/clusters/mnistcompute/code/Users/mashrajiv\n",
            " 13%|████▉                                 | 2.00M/15.3M [00:00<00:00, 19.5MB/s]\n",
            "100%|██████████████████████████████████████| 15.3M/15.3M [00:00<00:00, 45.8MB/s]\n",
            "/mnt/batch/tasks/shared/LS_root/mounts/clusters/mnistcompute/code/Users/mashrajiv/data/sample_submission.csv\n",
            "/mnt/batch/tasks/shared/LS_root/mounts/clusters/mnistcompute/code/Users/mashrajiv/data/test.csv\n",
            "/mnt/batch/tasks/shared/LS_root/mounts/clusters/mnistcompute/code/Users/mashrajiv/data/train.csv\n"
          ]
        }
      ],
      "execution_count": 5,
      "metadata": {
        "collapsed": true,
        "jupyter": {
          "source_hidden": false,
          "outputs_hidden": false
        },
        "nteract": {
          "transient": {
            "deleting": false
          }
        },
        "gather": {
          "logged": 1627364080187
        }
      }
    },
    {
      "cell_type": "code",
      "source": [
        "#Load the CSV into Data Frames\r\n",
        "\r\n",
        "train_properties_file = '/mnt/batch/tasks/shared/LS_root/mounts/clusters/mnistcompute/code/Users/mashrajiv/data/train.csv'\r\n",
        "test_properties_file = '/mnt/batch/tasks/shared/LS_root/mounts/clusters/mnistcompute/code/Users/mashrajiv/data/test.csv'\r\n",
        "train = pd.read_csv('./data/train.csv',nrows=10000)\r\n",
        "#test file does not have lables so we will be using a part of train for validation\r\n",
        "test = pd.read_csv('./data/test.csv')"
      ],
      "outputs": [],
      "execution_count": 6,
      "metadata": {
        "collapsed": true,
        "jupyter": {
          "source_hidden": false,
          "outputs_hidden": false
        },
        "nteract": {
          "transient": {
            "deleting": false
          }
        },
        "gather": {
          "logged": 1627364087649
        }
      }
    },
    {
      "cell_type": "markdown",
      "source": [
        "### Compute Creation"
      ],
      "metadata": {
        "nteract": {
          "transient": {
            "deleting": false
          }
        }
      }
    },
    {
      "cell_type": "code",
      "source": [
        "#Required incase Local instance is not used\r\n",
        "from azureml.core.compute import ComputeTarget, AmlCompute\r\n",
        "from azureml.core.compute_target import ComputeTargetException\r\n",
        "\r\n",
        "# Choose a name for your CPU cluster\r\n",
        "cpu_cluster_name = \"cpucluster\"\r\n",
        "\r\n",
        "# Verify that cluster does not exist already\r\n",
        "try:\r\n",
        "    compute_target = ComputeTarget(workspace=ws, name=cpu_cluster_name)\r\n",
        "    print('Found existing cluster, use it.')\r\n",
        "except ComputeTargetException:\r\n",
        "    compute_config = AmlCompute.provisioning_configuration(vm_size='STANDARD_DS12_V2',\r\n",
        "                                                           max_nodes=6)\r\n",
        "    compute_target = ComputeTarget.create(ws, cpu_cluster_name, compute_config)\r\n",
        "\r\n",
        "compute_target.wait_for_completion(show_output=True)"
      ],
      "outputs": [
        {
          "output_type": "stream",
          "name": "stdout",
          "text": [
            "Creating......\n",
            "SucceededProvisioning operation finished, operation \"Succeeded\"\n",
            "Succeeded\n",
            "AmlCompute wait for completion finished\n",
            "\n",
            "Minimum number of nodes requested have been provisioned\n"
          ]
        }
      ],
      "execution_count": 8,
      "metadata": {
        "collapsed": true,
        "jupyter": {
          "source_hidden": false,
          "outputs_hidden": false
        },
        "nteract": {
          "transient": {
            "deleting": false
          }
        },
        "gather": {
          "logged": 1627293617845
        }
      }
    },
    {
      "cell_type": "markdown",
      "source": [
        "## AutoML Configuration\n",
        "\n",
        "Choice of AutoML Settings:\n",
        " \n",
        "#### 1. n_cross_validation \n",
        "Indicates how many cross validations to perform and in our case splitting it into 5 portions will ensure that we have ~8000 records for training and ~2000 for validation.\n",
        " \n",
        "#### 2. Primary Metric\n",
        "Primary metric chosen here is accuracy to understand how much of the sample has been correctly classified.We could also use AUC as metric where we can see multiple one versus all Precision recall curves for each of the MNIST digits\n",
        "\n",
        "#### 3. enable early stopping\n",
        "Early stopping is enabled to prevent overfitting\n",
        "\n",
        "#### 4. Experiment Stop time \n",
        "To handle costs and time\n",
        "\n",
        "#### 5.Local compute\n",
        "Going for the Local compute since we can pass dataframes and also to not create a separate compute (better cost)"
      ],
      "metadata": {}
    },
    {
      "cell_type": "code",
      "source": [
        "\n",
        "# TODO: Put your automl settings here\n",
        "automl_settings = automl_settings = {\n",
        "                                    \"n_cross_validations\": 5,\n",
        "                                    \"primary_metric\": 'accuracy',\n",
        "                                    \"enable_early_stopping\": True,\n",
        "                                    \"experiment_timeout_minutes\": 20\n",
        "                                     }\n",
        "\n",
        "# TODO: Put your automl config here\n",
        "automl_config = AutoMLConfig(\n",
        "   # compute_target = cpu_cluster,  - Local compute accepts Data Frames\n",
        "    task='classification',\n",
        "    training_data=train,\n",
        "    label_column_name='label',\n",
        "    **automl_settings)"
      ],
      "outputs": [],
      "execution_count": 7,
      "metadata": {
        "gather": {
          "logged": 1627364093727
        },
        "jupyter": {
          "outputs_hidden": false,
          "source_hidden": false
        },
        "nteract": {
          "transient": {
            "deleting": false
          }
        }
      }
    },
    {
      "cell_type": "code",
      "source": [
        "# TODO: Submit your experiment\n",
        "automl_run = experiment.submit(automl_config,show_output = False)"
      ],
      "outputs": [
        {
          "output_type": "stream",
          "name": "stderr",
          "text": [
            "WARNING:root:Running on local machine. Note that local runs always run synchronously even if you use the parameter 'show_output=False'\n"
          ]
        },
        {
          "output_type": "display_data",
          "data": {
            "text/plain": "<IPython.core.display.HTML object>",
            "text/html": "<table style=\"width:100%\"><tr><th>Experiment</th><th>Id</th><th>Type</th><th>Status</th><th>Details Page</th><th>Docs Page</th></tr><tr><td>automl_capstone_exp</td><td>AutoML_825541e0-d110-46eb-a4ed-70d9834d4886</td><td>automl</td><td>Preparing</td><td><a href=\"https://ml.azure.com/runs/AutoML_825541e0-d110-46eb-a4ed-70d9834d4886?wsid=/subscriptions/4aa2e7df-e0fb-4531-86c0-9fde89dcf4fa/resourcegroups/mlrg/workspaces/mltrial&amp;tid=42cd7fae-352f-4a09-a1b8-3cae854e5ad8\" target=\"_blank\" rel=\"noopener\">Link to Azure Machine Learning studio</a></td><td><a href=\"https://docs.microsoft.com/en-us/python/api/overview/azure/ml/intro?view=azure-ml-py\" target=\"_blank\" rel=\"noopener\">Link to Documentation</a></td></tr></table>"
          },
          "metadata": {}
        },
        {
          "output_type": "stream",
          "name": "stderr",
          "text": [
            "INFO:interpret_community.common.explanation_utils:Using default datastore for uploads\n",
            "WARNING:azureml.ArtifactUploader:Cannot serialize JSON possibly due to timestamp, retrying\n",
            "WARNING:azureml.ArtifactUploader:Cannot serialize JSON possibly due to timestamp, retrying\n"
          ]
        }
      ],
      "execution_count": 8,
      "metadata": {
        "gather": {
          "logged": 1627365689216
        },
        "jupyter": {
          "outputs_hidden": false,
          "source_hidden": false
        },
        "nteract": {
          "transient": {
            "deleting": false
          }
        }
      }
    },
    {
      "cell_type": "markdown",
      "source": [
        "## Run Details\r\n",
        "\r\n",
        "Below are the models which have been chosen by Azure ML for this experiment\r\n",
        "\r\n",
        "1.Voting Ensemble\r\n",
        "\r\n",
        "2.Stack Ensemble\r\n",
        "\r\n",
        "3.Max ABS scaler/Light GBM\r\n",
        "\r\n",
        "4.Max ABS scaler/XGBoost Classifier \r\n",
        "\r\n",
        "\r\n",
        "5.Random Forest\r\n",
        "\r\n",
        "\r\n",
        "The Ensemble models perform better as opposed to the individual models since they combine bagging,bosting and stacking to provide the results.\r\n",
        "They also combine the results and minimise the variance component of the error.\r\n",
        "\r\n",
        "\r\n",
        "\r\n",
        "\r\n",
        "We can explore the results of automatic training with a Jupyter widget. \r\n",
        "Additionally, we can filter on different accuracy metrics than the  primary metric - Accuracy  with the dropdown selector"
      ],
      "metadata": {
        "nteract": {
          "transient": {
            "deleting": false
          }
        }
      }
    },
    {
      "cell_type": "code",
      "source": [
        "\r\n",
        "RunDetails(automl_run).show()\r\n"
      ],
      "outputs": [
        {
          "output_type": "display_data",
          "data": {
            "text/plain": "_AutoMLWidget(widget_settings={'childWidgetDisplay': 'popup', 'send_telemetry': False, 'log_level': 'INFO', 's…",
            "application/vnd.jupyter.widget-view+json": {
              "version_major": 2,
              "version_minor": 0,
              "model_id": "46a4c7bde11342e68f7c3c4f085f43b5"
            }
          },
          "metadata": {}
        },
        {
          "output_type": "display_data",
          "data": {
            "application/aml.mini.widget.v1": "{\"status\": \"Completed\", \"workbench_run_details_uri\": \"https://ml.azure.com/runs/AutoML_825541e0-d110-46eb-a4ed-70d9834d4886?wsid=/subscriptions/4aa2e7df-e0fb-4531-86c0-9fde89dcf4fa/resourcegroups/mlrg/workspaces/mltrial&tid=42cd7fae-352f-4a09-a1b8-3cae854e5ad8\", \"run_id\": \"AutoML_825541e0-d110-46eb-a4ed-70d9834d4886\", \"run_properties\": {\"run_id\": \"AutoML_825541e0-d110-46eb-a4ed-70d9834d4886\", \"created_utc\": \"2021-07-27T05:35:35.941788Z\", \"properties\": {\"num_iterations\": \"1000\", \"training_type\": \"TrainFull\", \"acquisition_function\": \"EI\", \"primary_metric\": \"accuracy\", \"train_split\": \"0\", \"acquisition_parameter\": \"0\", \"num_cross_validation\": \"5\", \"target\": \"local\", \"AMLSettingsJsonString\": \"{\\\"path\\\":null,\\\"name\\\":\\\"automl_capstone_exp\\\",\\\"subscription_id\\\":\\\"4aa2e7df-e0fb-4531-86c0-9fde89dcf4fa\\\",\\\"resource_group\\\":\\\"mlrg\\\",\\\"workspace_name\\\":\\\"mltrial\\\",\\\"region\\\":\\\"eastus\\\",\\\"compute_target\\\":\\\"local\\\",\\\"spark_service\\\":null,\\\"azure_service\\\":\\\"Microsoft.AzureNotebookVM\\\",\\\"many_models\\\":false,\\\"pipeline_fetch_max_batch_size\\\":1,\\\"enable_batch_run\\\":false,\\\"enable_run_restructure\\\":false,\\\"start_auxiliary_runs_before_parent_complete\\\":false,\\\"enable_code_generation\\\":false,\\\"iterations\\\":1000,\\\"primary_metric\\\":\\\"accuracy\\\",\\\"task_type\\\":\\\"classification\\\",\\\"data_script\\\":null,\\\"test_size\\\":0.0,\\\"validation_size\\\":0.0,\\\"n_cross_validations\\\":5,\\\"y_min\\\":null,\\\"y_max\\\":null,\\\"num_classes\\\":null,\\\"featurization\\\":\\\"auto\\\",\\\"_ignore_package_version_incompatibilities\\\":false,\\\"is_timeseries\\\":false,\\\"max_cores_per_iteration\\\":1,\\\"max_concurrent_iterations\\\":1,\\\"iteration_timeout_minutes\\\":null,\\\"mem_in_mb\\\":null,\\\"enforce_time_on_windows\\\":false,\\\"experiment_timeout_minutes\\\":20,\\\"experiment_exit_score\\\":null,\\\"whitelist_models\\\":null,\\\"blacklist_algos\\\":[\\\"TensorFlowLinearClassifier\\\",\\\"TensorFlowDNN\\\"],\\\"supported_models\\\":[\\\"LightGBM\\\",\\\"LinearSVM\\\",\\\"MultinomialNaiveBayes\\\",\\\"SVM\\\",\\\"XGBoostClassifier\\\",\\\"AveragedPerceptronClassifier\\\",\\\"TensorFlowLinearClassifier\\\",\\\"GradientBoosting\\\",\\\"SGD\\\",\\\"TensorFlowDNN\\\",\\\"DecisionTree\\\",\\\"LogisticRegression\\\",\\\"ExtremeRandomTrees\\\",\\\"RandomForest\\\",\\\"KNN\\\",\\\"BernoulliNaiveBayes\\\"],\\\"private_models\\\":[],\\\"auto_blacklist\\\":true,\\\"blacklist_samples_reached\\\":false,\\\"exclude_nan_labels\\\":true,\\\"verbosity\\\":20,\\\"_debug_log\\\":\\\"automl.log\\\",\\\"show_warnings\\\":false,\\\"model_explainability\\\":true,\\\"service_url\\\":null,\\\"sdk_url\\\":null,\\\"sdk_packages\\\":null,\\\"enable_onnx_compatible_models\\\":false,\\\"enable_split_onnx_featurizer_estimator_models\\\":false,\\\"vm_type\\\":null,\\\"telemetry_verbosity\\\":20,\\\"send_telemetry\\\":true,\\\"enable_dnn\\\":false,\\\"scenario\\\":\\\"SDK-1.13.0\\\",\\\"environment_label\\\":null,\\\"save_mlflow\\\":false,\\\"force_text_dnn\\\":false,\\\"enable_feature_sweeping\\\":true,\\\"enable_early_stopping\\\":true,\\\"early_stopping_n_iters\\\":10,\\\"metrics\\\":null,\\\"enable_metric_confidence\\\":false,\\\"enable_ensembling\\\":true,\\\"enable_stack_ensembling\\\":true,\\\"ensemble_iterations\\\":15,\\\"enable_tf\\\":false,\\\"enable_subsampling\\\":null,\\\"subsample_seed\\\":null,\\\"enable_nimbusml\\\":false,\\\"enable_streaming\\\":false,\\\"force_streaming\\\":false,\\\"track_child_runs\\\":true,\\\"allowed_private_models\\\":[],\\\"label_column_name\\\":\\\"label\\\",\\\"weight_column_name\\\":null,\\\"cv_split_column_names\\\":null,\\\"enable_local_managed\\\":false,\\\"_local_managed_run_id\\\":null,\\\"cost_mode\\\":1,\\\"lag_length\\\":0,\\\"metric_operation\\\":\\\"maximize\\\",\\\"preprocess\\\":true}\", \"DataPrepJsonString\": null, \"EnableSubsampling\": null, \"runTemplate\": \"AutoML\", \"azureml.runsource\": \"automl\", \"display_task_type\": \"classification\", \"dependencies_versions\": \"{\\\"azureml-widgets\\\": \\\"1.31.0\\\", \\\"azureml-train\\\": \\\"1.31.0\\\", \\\"azureml-train-restclients-hyperdrive\\\": \\\"1.31.0\\\", \\\"azureml-train-core\\\": \\\"1.31.0\\\", \\\"azureml-train-automl\\\": \\\"1.31.0\\\", \\\"azureml-train-automl-runtime\\\": \\\"1.31.0\\\", \\\"azureml-train-automl-client\\\": \\\"1.31.0\\\", \\\"azureml-tensorboard\\\": \\\"1.31.0\\\", \\\"azureml-telemetry\\\": \\\"1.31.0\\\", \\\"azureml-sdk\\\": \\\"1.31.0\\\", \\\"azureml-samples\\\": \\\"0+unknown\\\", \\\"azureml-responsibleai\\\": \\\"1.31.0\\\", \\\"azureml-pipeline\\\": \\\"1.31.0\\\", \\\"azureml-pipeline-steps\\\": \\\"1.31.0\\\", \\\"azureml-pipeline-core\\\": \\\"1.31.0\\\", \\\"azureml-opendatasets\\\": \\\"1.31.0\\\", \\\"azureml-model-management-sdk\\\": \\\"1.0.1b6.post1\\\", \\\"azureml-mlflow\\\": \\\"1.31.0\\\", \\\"azureml-interpret\\\": \\\"1.31.0\\\", \\\"azureml-explain-model\\\": \\\"1.31.0\\\", \\\"azureml-defaults\\\": \\\"1.31.0\\\", \\\"azureml-dataset-runtime\\\": \\\"1.31.0\\\", \\\"azureml-dataprep\\\": \\\"2.18.0\\\", \\\"azureml-dataprep-rslex\\\": \\\"1.16.1\\\", \\\"azureml-dataprep-native\\\": \\\"36.0.0\\\", \\\"azureml-datadrift\\\": \\\"1.31.0\\\", \\\"azureml-core\\\": \\\"1.31.0\\\", \\\"azureml-contrib-services\\\": \\\"1.31.0\\\", \\\"azureml-contrib-server\\\": \\\"1.31.0\\\", \\\"azureml-contrib-reinforcementlearning\\\": \\\"1.31.0\\\", \\\"azureml-contrib-pipeline-steps\\\": \\\"1.31.0\\\", \\\"azureml-contrib-notebook\\\": \\\"1.31.0\\\", \\\"azureml-contrib-fairness\\\": \\\"1.31.0\\\", \\\"azureml-contrib-dataset\\\": \\\"1.31.0\\\", \\\"azureml-cli-common\\\": \\\"1.31.0\\\", \\\"azureml-automl-runtime\\\": \\\"1.31.0\\\", \\\"azureml-automl-dnn-nlp\\\": \\\"1.31.0\\\", \\\"azureml-automl-core\\\": \\\"1.31.0\\\", \\\"azureml-accel-models\\\": \\\"1.31.0\\\"}\", \"_aml_system_scenario_identification\": \"Local.Parent\", \"ClientSdkVersion\": \"1.31.0\", \"ClientType\": \"SDK\", \"environment_cpu_name\": \"AzureML-AutoML\", \"environment_cpu_label\": \"prod\", \"environment_gpu_name\": \"AzureML-AutoML-GPU\", \"environment_gpu_label\": \"prod\", \"root_attribution\": \"automl\", \"attribution\": \"AutoML\", \"Orchestrator\": \"AutoML\", \"_azureml.ComputeTargetType\": \"local\", \"ProblemInfoJsonString\": \"{\\\"dataset_num_categorical\\\": 0, \\\"is_sparse\\\": true, \\\"subsampling\\\": false, \\\"has_extra_col\\\": true, \\\"dataset_classes\\\": 10, \\\"dataset_features\\\": 2926, \\\"dataset_samples\\\": 10000, \\\"single_frequency_class_detected\\\": false}\"}, \"tags\": {\"model_explain_run\": \"best_run\", \"best_score\": \"0.9464\", \"best_pipeline\": \"VotingEnsemble\", \"automl_best_child_run_id\": \"AutoML_825541e0-d110-46eb-a4ed-70d9834d4886_3\", \"model_explain_best_run_child_id\": \"AutoML_825541e0-d110-46eb-a4ed-70d9834d4886_3\"}, \"end_time_utc\": \"2021-07-27T05:57:59.274571Z\", \"status\": \"Completed\", \"log_files\": {}, \"log_groups\": [], \"run_duration\": \"0:22:23\", \"run_number\": \"1\", \"run_queued_details\": {\"status\": \"Completed\", \"details\": null}}, \"child_runs\": [{\"run_id\": \"AutoML_825541e0-d110-46eb-a4ed-70d9834d4886_0\", \"run_number\": 2, \"metric\": null, \"status\": \"Completed\", \"run_type\": null, \"training_percent\": \"100\", \"start_time\": \"2021-07-27T05:37:27.905691Z\", \"end_time\": \"2021-07-27T05:46:08.69492Z\", \"created_time\": \"2021-07-27T05:37:27.764145Z\", \"created_time_dt\": \"2021-07-27T05:37:27.764145Z\", \"duration\": \"0:08:40\", \"iteration\": \"0\", \"goal\": \"accuracy_max\", \"run_name\": \"MaxAbsScaler, LightGBM\", \"run_properties\": \"copy=True\", \"primary_metric\": 0.9456, \"best_metric\": 0.9456}, {\"run_id\": \"AutoML_825541e0-d110-46eb-a4ed-70d9834d4886_1\", \"run_number\": 3, \"metric\": null, \"status\": \"Completed\", \"run_type\": null, \"training_percent\": \"100\", \"start_time\": \"2021-07-27T05:46:09.052525Z\", \"end_time\": \"2021-07-27T05:55:14.322165Z\", \"created_time\": \"2021-07-27T05:46:08.908277Z\", \"created_time_dt\": \"2021-07-27T05:46:08.908277Z\", \"duration\": \"0:09:05\", \"iteration\": \"1\", \"goal\": \"accuracy_max\", \"run_name\": \"MaxAbsScaler, XGBoostClassifier\", \"run_properties\": \"copy=True\", \"primary_metric\": 0.9195, \"best_metric\": 0.9456}, {\"run_id\": \"AutoML_825541e0-d110-46eb-a4ed-70d9834d4886_2\", \"run_number\": 4, \"metric\": null, \"status\": \"Completed\", \"run_type\": null, \"training_percent\": \"100\", \"start_time\": \"2021-07-27T05:55:15.101678Z\", \"end_time\": \"2021-07-27T05:55:45.469725Z\", \"created_time\": \"2021-07-27T05:55:14.97864Z\", \"created_time_dt\": \"2021-07-27T05:55:14.97864Z\", \"duration\": \"0:00:30\", \"iteration\": \"2\", \"goal\": \"accuracy_max\", \"run_name\": \"MaxAbsScaler, RandomForest\", \"run_properties\": \"copy=True\", \"primary_metric\": 0.7649, \"best_metric\": 0.9456}, {\"run_id\": \"AutoML_825541e0-d110-46eb-a4ed-70d9834d4886_3\", \"run_number\": 5, \"metric\": null, \"status\": \"Completed\", \"run_type\": null, \"training_percent\": \"100\", \"start_time\": \"2021-07-27T05:55:45.835693Z\", \"end_time\": \"2021-07-27T05:56:13.736476Z\", \"created_time\": \"2021-07-27T05:55:45.710376Z\", \"created_time_dt\": \"2021-07-27T05:55:45.710376Z\", \"duration\": \"0:00:28\", \"iteration\": \"3\", \"goal\": \"accuracy_max\", \"run_name\": \"VotingEnsemble\", \"run_properties\": \"\\n    estimators=[('0', Pipeline(memory=None,\\n             steps=[('maxabsscaler', MaxAbsScaler(copy=True\", \"primary_metric\": 0.9464, \"best_metric\": 0.9464}, {\"run_id\": \"AutoML_825541e0-d110-46eb-a4ed-70d9834d4886_4\", \"run_number\": 6, \"metric\": null, \"status\": \"Completed\", \"run_type\": null, \"training_percent\": \"100\", \"start_time\": \"2021-07-27T05:56:14.144617Z\", \"end_time\": \"2021-07-27T05:57:58.88341Z\", \"created_time\": \"2021-07-27T05:56:14.010544Z\", \"created_time_dt\": \"2021-07-27T05:56:14.010544Z\", \"duration\": \"0:01:44\", \"iteration\": \"4\", \"goal\": \"accuracy_max\", \"run_name\": \"StackEnsemble\", \"run_properties\": \"\\n    base_learners=[('0', Pipeline(memory=None,\\n             steps=[('maxabsscaler', MaxAbsScaler(copy=True\", \"primary_metric\": 0.9457, \"best_metric\": 0.9464}], \"children_metrics\": {\"categories\": [0], \"series\": {\"recall_score_macro\": [{\"categories\": [\"0\", \"1\", \"2\", \"3\", \"4\"], \"mode\": \"markers\", \"name\": \"recall_score_macro\", \"stepped\": false, \"type\": \"scatter\", \"data\": [0.9453746014993392, 0.9186231606915488, 0.7588080920832504, 0.9461632951717955, 0.945510389647691]}, {\"categories\": [\"0\", \"1\", \"2\", \"3\", \"4\"], \"mode\": \"lines\", \"name\": \"recall_score_macro_max\", \"stepped\": true, \"type\": \"scatter\", \"data\": [0.9453746014993392, 0.9453746014993392, 0.9453746014993392, 0.9461632951717955, 0.9461632951717955]}], \"log_loss\": [{\"categories\": [\"0\", \"1\", \"2\", \"3\", \"4\"], \"mode\": \"markers\", \"name\": \"log_loss\", \"stepped\": false, \"type\": \"scatter\", \"data\": [0.1686559761421986, 0.2865211166014191, 1.2123475191936277, 0.260259836158065, 0.21025805087928157]}, {\"categories\": [\"0\", \"1\", \"2\", \"3\", \"4\"], \"mode\": \"lines\", \"name\": \"log_loss_min\", \"stepped\": true, \"type\": \"scatter\", \"data\": [0.1686559761421986, 0.1686559761421986, 0.1686559761421986, 0.1686559761421986, 0.1686559761421986]}], \"average_precision_score_weighted\": [{\"categories\": [\"0\", \"1\", \"2\", \"3\", \"4\"], \"mode\": \"markers\", \"name\": \"average_precision_score_weighted\", \"stepped\": false, \"type\": \"scatter\", \"data\": [0.9876522395983949, 0.9741014576824677, 0.8358892260149275, 0.9851684540815226, 0.981954652104309]}, {\"categories\": [\"0\", \"1\", \"2\", \"3\", \"4\"], \"mode\": \"lines\", \"name\": \"average_precision_score_weighted_max\", \"stepped\": true, \"type\": \"scatter\", \"data\": [0.9876522395983949, 0.9876522395983949, 0.9876522395983949, 0.9876522395983949, 0.9876522395983949]}], \"precision_score_macro\": [{\"categories\": [\"0\", \"1\", \"2\", \"3\", \"4\"], \"mode\": \"markers\", \"name\": \"precision_score_macro\", \"stepped\": false, \"type\": \"scatter\", \"data\": [0.9450389096837448, 0.9189485982946719, 0.7685958279080909, 0.9459194731229525, 0.9453149845306635]}, {\"categories\": [\"0\", \"1\", \"2\", \"3\", \"4\"], \"mode\": \"lines\", \"name\": \"precision_score_macro_max\", \"stepped\": true, \"type\": \"scatter\", \"data\": [0.9450389096837448, 0.9450389096837448, 0.9450389096837448, 0.9459194731229525, 0.9459194731229525]}], \"f1_score_weighted\": [{\"categories\": [\"0\", \"1\", \"2\", \"3\", \"4\"], \"mode\": \"markers\", \"name\": \"f1_score_weighted\", \"stepped\": false, \"type\": \"scatter\", \"data\": [0.9456474590522921, 0.9193849736667671, 0.7566680769344587, 0.9464385024728681, 0.9457278592148857]}, {\"categories\": [\"0\", \"1\", \"2\", \"3\", \"4\"], \"mode\": \"lines\", \"name\": \"f1_score_weighted_max\", \"stepped\": true, \"type\": \"scatter\", \"data\": [0.9456474590522921, 0.9456474590522921, 0.9456474590522921, 0.9464385024728681, 0.9464385024728681]}], \"balanced_accuracy\": [{\"categories\": [\"0\", \"1\", \"2\", \"3\", \"4\"], \"mode\": \"markers\", \"name\": \"balanced_accuracy\", \"stepped\": false, \"type\": \"scatter\", \"data\": [0.9453746014993392, 0.9186231606915488, 0.7588080920832504, 0.9461632951717955, 0.945510389647691]}, {\"categories\": [\"0\", \"1\", \"2\", \"3\", \"4\"], \"mode\": \"lines\", \"name\": \"balanced_accuracy_max\", \"stepped\": true, \"type\": \"scatter\", \"data\": [0.9453746014993392, 0.9453746014993392, 0.9453746014993392, 0.9461632951717955, 0.9461632951717955]}], \"accuracy\": [{\"categories\": [\"0\", \"1\", \"2\", \"3\", \"4\"], \"mode\": \"markers\", \"name\": \"accuracy\", \"stepped\": false, \"type\": \"scatter\", \"data\": [0.9456000000000001, 0.9195, 0.7648999999999999, 0.9464, 0.9457000000000001]}, {\"categories\": [\"0\", \"1\", \"2\", \"3\", \"4\"], \"mode\": \"lines\", \"name\": \"accuracy_max\", \"stepped\": true, \"type\": \"scatter\", \"data\": [0.9456000000000001, 0.9456000000000001, 0.9456000000000001, 0.9464, 0.9464]}], \"recall_score_micro\": [{\"categories\": [\"0\", \"1\", \"2\", \"3\", \"4\"], \"mode\": \"markers\", \"name\": \"recall_score_micro\", \"stepped\": false, \"type\": \"scatter\", \"data\": [0.9456000000000001, 0.9195, 0.7648999999999999, 0.9464, 0.9457000000000001]}, {\"categories\": [\"0\", \"1\", \"2\", \"3\", \"4\"], \"mode\": \"lines\", \"name\": \"recall_score_micro_max\", \"stepped\": true, \"type\": \"scatter\", \"data\": [0.9456000000000001, 0.9456000000000001, 0.9456000000000001, 0.9464, 0.9464]}], \"precision_score_micro\": [{\"categories\": [\"0\", \"1\", \"2\", \"3\", \"4\"], \"mode\": \"markers\", \"name\": \"precision_score_micro\", \"stepped\": false, \"type\": \"scatter\", \"data\": [0.9456000000000001, 0.9195, 0.7648999999999999, 0.9464, 0.9457000000000001]}, {\"categories\": [\"0\", \"1\", \"2\", \"3\", \"4\"], \"mode\": \"lines\", \"name\": \"precision_score_micro_max\", \"stepped\": true, \"type\": \"scatter\", \"data\": [0.9456000000000001, 0.9456000000000001, 0.9456000000000001, 0.9464, 0.9464]}], \"average_precision_score_micro\": [{\"categories\": [\"0\", \"1\", \"2\", \"3\", \"4\"], \"mode\": \"markers\", \"name\": \"average_precision_score_micro\", \"stepped\": false, \"type\": \"scatter\", \"data\": [0.9880782547252116, 0.975491905570555, 0.8328777264413579, 0.9848713342061306, 0.9805645629701593]}, {\"categories\": [\"0\", \"1\", \"2\", \"3\", \"4\"], \"mode\": \"lines\", \"name\": \"average_precision_score_micro_max\", \"stepped\": true, \"type\": \"scatter\", \"data\": [0.9880782547252116, 0.9880782547252116, 0.9880782547252116, 0.9880782547252116, 0.9880782547252116]}], \"matthews_correlation\": [{\"categories\": [\"0\", \"1\", \"2\", \"3\", \"4\"], \"mode\": \"markers\", \"name\": \"matthews_correlation\", \"stepped\": false, \"type\": \"scatter\", \"data\": [0.9395410621589161, 0.9105200672538105, 0.7400715365942074, 0.940429998848843, 0.9396496533988626]}, {\"categories\": [\"0\", \"1\", \"2\", \"3\", \"4\"], \"mode\": \"lines\", \"name\": \"matthews_correlation_max\", \"stepped\": true, \"type\": \"scatter\", \"data\": [0.9395410621589161, 0.9395410621589161, 0.9395410621589161, 0.940429998848843, 0.940429998848843]}], \"recall_score_weighted\": [{\"categories\": [\"0\", \"1\", \"2\", \"3\", \"4\"], \"mode\": \"markers\", \"name\": \"recall_score_weighted\", \"stepped\": false, \"type\": \"scatter\", \"data\": [0.9456000000000001, 0.9195, 0.7648999999999999, 0.9464, 0.9457000000000001]}, {\"categories\": [\"0\", \"1\", \"2\", \"3\", \"4\"], \"mode\": \"lines\", \"name\": \"recall_score_weighted_max\", \"stepped\": true, \"type\": \"scatter\", \"data\": [0.9456000000000001, 0.9456000000000001, 0.9456000000000001, 0.9464, 0.9464]}], \"norm_macro_recall\": [{\"categories\": [\"0\", \"1\", \"2\", \"3\", \"4\"], \"mode\": \"markers\", \"name\": \"norm_macro_recall\", \"stepped\": false, \"type\": \"scatter\", \"data\": [0.9393051127770438, 0.9095812896572765, 0.7320089912036115, 0.9401814390797728, 0.9394559884974345]}, {\"categories\": [\"0\", \"1\", \"2\", \"3\", \"4\"], \"mode\": \"lines\", \"name\": \"norm_macro_recall_max\", \"stepped\": true, \"type\": \"scatter\", \"data\": [0.9393051127770438, 0.9393051127770438, 0.9393051127770438, 0.9401814390797728, 0.9401814390797728]}], \"AUC_micro\": [{\"categories\": [\"0\", \"1\", \"2\", \"3\", \"4\"], \"mode\": \"markers\", \"name\": \"AUC_micro\", \"stepped\": false, \"type\": \"scatter\", \"data\": [0.9980737888888889, 0.9958280388888889, 0.9637526111111111, 0.9969504277777776, 0.9958069555555558]}, {\"categories\": [\"0\", \"1\", \"2\", \"3\", \"4\"], \"mode\": \"lines\", \"name\": \"AUC_micro_max\", \"stepped\": true, \"type\": \"scatter\", \"data\": [0.9980737888888889, 0.9980737888888889, 0.9980737888888889, 0.9980737888888889, 0.9980737888888889]}], \"weighted_accuracy\": [{\"categories\": [\"0\", \"1\", \"2\", \"3\", \"4\"], \"mode\": \"markers\", \"name\": \"weighted_accuracy\", \"stepped\": false, \"type\": \"scatter\", \"data\": [0.9458439580085136, 0.9203919627999726, 0.7708449674314324, 0.946653985311443, 0.9459003162658621]}, {\"categories\": [\"0\", \"1\", \"2\", \"3\", \"4\"], \"mode\": \"lines\", \"name\": \"weighted_accuracy_max\", \"stepped\": true, \"type\": \"scatter\", \"data\": [0.9458439580085136, 0.9458439580085136, 0.9458439580085136, 0.946653985311443, 0.946653985311443]}], \"AUC_weighted\": [{\"categories\": [\"0\", \"1\", \"2\", \"3\", \"4\"], \"mode\": \"markers\", \"name\": \"AUC_weighted\", \"stepped\": false, \"type\": \"scatter\", \"data\": [0.9979981055965433, 0.9955969754296328, 0.9634742271607575, 0.9968611772399567, 0.9957220945596154]}, {\"categories\": [\"0\", \"1\", \"2\", \"3\", \"4\"], \"mode\": \"lines\", \"name\": \"AUC_weighted_max\", \"stepped\": true, \"type\": \"scatter\", \"data\": [0.9979981055965433, 0.9979981055965433, 0.9979981055965433, 0.9979981055965433, 0.9979981055965433]}], \"average_precision_score_macro\": [{\"categories\": [\"0\", \"1\", \"2\", \"3\", \"4\"], \"mode\": \"markers\", \"name\": \"average_precision_score_macro\", \"stepped\": false, \"type\": \"scatter\", \"data\": [0.9874894221268384, 0.9736479393731592, 0.8315227359404282, 0.9850034213663477, 0.981730583133744]}, {\"categories\": [\"0\", \"1\", \"2\", \"3\", \"4\"], \"mode\": \"lines\", \"name\": \"average_precision_score_macro_max\", \"stepped\": true, \"type\": \"scatter\", \"data\": [0.9874894221268384, 0.9874894221268384, 0.9874894221268384, 0.9874894221268384, 0.9874894221268384]}], \"precision_score_weighted\": [{\"categories\": [\"0\", \"1\", \"2\", \"3\", \"4\"], \"mode\": \"markers\", \"name\": \"precision_score_weighted\", \"stepped\": false, \"type\": \"scatter\", \"data\": [0.945939100039703, 0.9195873213953341, 0.7689802682195582, 0.9467232706135877, 0.9459910627906595]}, {\"categories\": [\"0\", \"1\", \"2\", \"3\", \"4\"], \"mode\": \"lines\", \"name\": \"precision_score_weighted_max\", \"stepped\": true, \"type\": \"scatter\", \"data\": [0.945939100039703, 0.945939100039703, 0.945939100039703, 0.9467232706135877, 0.9467232706135877]}], \"f1_score_macro\": [{\"categories\": [\"0\", \"1\", \"2\", \"3\", \"4\"], \"mode\": \"markers\", \"name\": \"f1_score_macro\", \"stepped\": false, \"type\": \"scatter\", \"data\": [0.9450819336143667, 0.9186264558678433, 0.7527176611830569, 0.9459152646803458, 0.9452924212931773]}, {\"categories\": [\"0\", \"1\", \"2\", \"3\", \"4\"], \"mode\": \"lines\", \"name\": \"f1_score_macro_max\", \"stepped\": true, \"type\": \"scatter\", \"data\": [0.9450819336143667, 0.9450819336143667, 0.9450819336143667, 0.9459152646803458, 0.9459152646803458]}], \"f1_score_micro\": [{\"categories\": [\"0\", \"1\", \"2\", \"3\", \"4\"], \"mode\": \"markers\", \"name\": \"f1_score_micro\", \"stepped\": false, \"type\": \"scatter\", \"data\": [0.9456000000000001, 0.9195, 0.7648999999999999, 0.9464, 0.9457000000000001]}, {\"categories\": [\"0\", \"1\", \"2\", \"3\", \"4\"], \"mode\": \"lines\", \"name\": \"f1_score_micro_max\", \"stepped\": true, \"type\": \"scatter\", \"data\": [0.9456000000000001, 0.9456000000000001, 0.9456000000000001, 0.9464, 0.9464]}], \"AUC_macro\": [{\"categories\": [\"0\", \"1\", \"2\", \"3\", \"4\"], \"mode\": \"markers\", \"name\": \"AUC_macro\", \"stepped\": false, \"type\": \"scatter\", \"data\": [0.997982966602774, 0.9955292443290121, 0.9626424075509631, 0.9968344307341154, 0.9956784722160268]}, {\"categories\": [\"0\", \"1\", \"2\", \"3\", \"4\"], \"mode\": \"lines\", \"name\": \"AUC_macro_max\", \"stepped\": true, \"type\": \"scatter\", \"data\": [0.997982966602774, 0.997982966602774, 0.997982966602774, 0.997982966602774, 0.997982966602774]}]}, \"metricName\": null, \"primaryMetricName\": \"accuracy\", \"showLegend\": false}, \"run_metrics\": [{\"name\": \"precision_score_micro\", \"run_id\": \"AutoML_825541e0-d110-46eb-a4ed-70d9834d4886\", \"categories\": [0], \"series\": [{\"data\": [0.9464]}]}, {\"name\": \"recall_score_macro\", \"run_id\": \"AutoML_825541e0-d110-46eb-a4ed-70d9834d4886\", \"categories\": [0], \"series\": [{\"data\": [0.9461632951717955]}]}, {\"name\": \"matthews_correlation\", \"run_id\": \"AutoML_825541e0-d110-46eb-a4ed-70d9834d4886\", \"categories\": [0], \"series\": [{\"data\": [0.940429998848843]}]}, {\"name\": \"log_loss\", \"run_id\": \"AutoML_825541e0-d110-46eb-a4ed-70d9834d4886\", \"categories\": [0], \"series\": [{\"data\": [0.260259836158065]}]}, {\"name\": \"weighted_accuracy\", \"run_id\": \"AutoML_825541e0-d110-46eb-a4ed-70d9834d4886\", \"categories\": [0], \"series\": [{\"data\": [0.946653985311443]}]}, {\"name\": \"accuracy\", \"run_id\": \"AutoML_825541e0-d110-46eb-a4ed-70d9834d4886\", \"categories\": [0], \"series\": [{\"data\": [0.9464]}]}, {\"name\": \"f1_score_micro\", \"run_id\": \"AutoML_825541e0-d110-46eb-a4ed-70d9834d4886\", \"categories\": [0], \"series\": [{\"data\": [0.9464]}]}, {\"name\": \"AUC_micro\", \"run_id\": \"AutoML_825541e0-d110-46eb-a4ed-70d9834d4886\", \"categories\": [0], \"series\": [{\"data\": [0.9969504277777776]}]}, {\"name\": \"average_precision_score_weighted\", \"run_id\": \"AutoML_825541e0-d110-46eb-a4ed-70d9834d4886\", \"categories\": [0], \"series\": [{\"data\": [0.9851684540815226]}]}, {\"name\": \"AUC_macro\", \"run_id\": \"AutoML_825541e0-d110-46eb-a4ed-70d9834d4886\", \"categories\": [0], \"series\": [{\"data\": [0.9968344307341154]}]}, {\"name\": \"precision_score_weighted\", \"run_id\": \"AutoML_825541e0-d110-46eb-a4ed-70d9834d4886\", \"categories\": [0], \"series\": [{\"data\": [0.9467232706135877]}]}, {\"name\": \"AUC_weighted\", \"run_id\": \"AutoML_825541e0-d110-46eb-a4ed-70d9834d4886\", \"categories\": [0], \"series\": [{\"data\": [0.9968611772399567]}]}, {\"name\": \"norm_macro_recall\", \"run_id\": \"AutoML_825541e0-d110-46eb-a4ed-70d9834d4886\", \"categories\": [0], \"series\": [{\"data\": [0.9401814390797728]}]}, {\"name\": \"recall_score_micro\", \"run_id\": \"AutoML_825541e0-d110-46eb-a4ed-70d9834d4886\", \"categories\": [0], \"series\": [{\"data\": [0.9464]}]}, {\"name\": \"f1_score_weighted\", \"run_id\": \"AutoML_825541e0-d110-46eb-a4ed-70d9834d4886\", \"categories\": [0], \"series\": [{\"data\": [0.9464385024728681]}]}, {\"name\": \"precision_score_macro\", \"run_id\": \"AutoML_825541e0-d110-46eb-a4ed-70d9834d4886\", \"categories\": [0], \"series\": [{\"data\": [0.9459194731229525]}]}, {\"name\": \"f1_score_macro\", \"run_id\": \"AutoML_825541e0-d110-46eb-a4ed-70d9834d4886\", \"categories\": [0], \"series\": [{\"data\": [0.9459152646803458]}]}, {\"name\": \"average_precision_score_macro\", \"run_id\": \"AutoML_825541e0-d110-46eb-a4ed-70d9834d4886\", \"categories\": [0], \"series\": [{\"data\": [0.9850034213663477]}]}, {\"name\": \"recall_score_weighted\", \"run_id\": \"AutoML_825541e0-d110-46eb-a4ed-70d9834d4886\", \"categories\": [0], \"series\": [{\"data\": [0.9464]}]}, {\"name\": \"balanced_accuracy\", \"run_id\": \"AutoML_825541e0-d110-46eb-a4ed-70d9834d4886\", \"categories\": [0], \"series\": [{\"data\": [0.9461632951717955]}]}, {\"name\": \"average_precision_score_micro\", \"run_id\": \"AutoML_825541e0-d110-46eb-a4ed-70d9834d4886\", \"categories\": [0], \"series\": [{\"data\": [0.9848713342061306]}]}], \"run_logs\": \"\\nError occurred: Non terminal exception retries exhausted. TotalRetriesAttempted: 10\\n\", \"graph\": {}, \"widget_settings\": {\"childWidgetDisplay\": \"popup\", \"send_telemetry\": false, \"log_level\": \"INFO\", \"sdk_version\": \"1.31.0\"}, \"loading\": false}"
          },
          "metadata": {}
        }
      ],
      "execution_count": 9,
      "metadata": {
        "gather": {
          "logged": 1627365689540
        },
        "jupyter": {
          "outputs_hidden": false,
          "source_hidden": false
        },
        "nteract": {
          "transient": {
            "deleting": false
          }
        }
      }
    },
    {
      "cell_type": "code",
      "source": [
        "automl_run.wait_for_completion(show_output=False)"
      ],
      "outputs": [
        {
          "output_type": "execute_result",
          "execution_count": 11,
          "data": {
            "text/plain": "{'runId': 'AutoML_825541e0-d110-46eb-a4ed-70d9834d4886',\n 'target': 'local',\n 'status': 'Completed',\n 'startTimeUtc': '2021-07-27T05:35:36.707871Z',\n 'endTimeUtc': '2021-07-27T05:57:59.274571Z',\n 'properties': {'num_iterations': '1000',\n  'training_type': 'TrainFull',\n  'acquisition_function': 'EI',\n  'primary_metric': 'accuracy',\n  'train_split': '0',\n  'acquisition_parameter': '0',\n  'num_cross_validation': '5',\n  'target': 'local',\n  'AMLSettingsJsonString': '{\"path\":null,\"name\":\"automl_capstone_exp\",\"subscription_id\":\"4aa2e7df-e0fb-4531-86c0-9fde89dcf4fa\",\"resource_group\":\"mlrg\",\"workspace_name\":\"mltrial\",\"region\":\"eastus\",\"compute_target\":\"local\",\"spark_service\":null,\"azure_service\":\"Microsoft.AzureNotebookVM\",\"many_models\":false,\"pipeline_fetch_max_batch_size\":1,\"enable_batch_run\":false,\"enable_run_restructure\":false,\"start_auxiliary_runs_before_parent_complete\":false,\"enable_code_generation\":false,\"iterations\":1000,\"primary_metric\":\"accuracy\",\"task_type\":\"classification\",\"data_script\":null,\"test_size\":0.0,\"validation_size\":0.0,\"n_cross_validations\":5,\"y_min\":null,\"y_max\":null,\"num_classes\":null,\"featurization\":\"auto\",\"_ignore_package_version_incompatibilities\":false,\"is_timeseries\":false,\"max_cores_per_iteration\":1,\"max_concurrent_iterations\":1,\"iteration_timeout_minutes\":null,\"mem_in_mb\":null,\"enforce_time_on_windows\":false,\"experiment_timeout_minutes\":20,\"experiment_exit_score\":null,\"whitelist_models\":null,\"blacklist_algos\":[\"TensorFlowLinearClassifier\",\"TensorFlowDNN\"],\"supported_models\":[\"LightGBM\",\"LinearSVM\",\"MultinomialNaiveBayes\",\"SVM\",\"XGBoostClassifier\",\"AveragedPerceptronClassifier\",\"TensorFlowLinearClassifier\",\"GradientBoosting\",\"SGD\",\"TensorFlowDNN\",\"DecisionTree\",\"LogisticRegression\",\"ExtremeRandomTrees\",\"RandomForest\",\"KNN\",\"BernoulliNaiveBayes\"],\"private_models\":[],\"auto_blacklist\":true,\"blacklist_samples_reached\":false,\"exclude_nan_labels\":true,\"verbosity\":20,\"_debug_log\":\"automl.log\",\"show_warnings\":false,\"model_explainability\":true,\"service_url\":null,\"sdk_url\":null,\"sdk_packages\":null,\"enable_onnx_compatible_models\":false,\"enable_split_onnx_featurizer_estimator_models\":false,\"vm_type\":null,\"telemetry_verbosity\":20,\"send_telemetry\":true,\"enable_dnn\":false,\"scenario\":\"SDK-1.13.0\",\"environment_label\":null,\"save_mlflow\":false,\"force_text_dnn\":false,\"enable_feature_sweeping\":true,\"enable_early_stopping\":true,\"early_stopping_n_iters\":10,\"metrics\":null,\"enable_metric_confidence\":false,\"enable_ensembling\":true,\"enable_stack_ensembling\":true,\"ensemble_iterations\":15,\"enable_tf\":false,\"enable_subsampling\":null,\"subsample_seed\":null,\"enable_nimbusml\":false,\"enable_streaming\":false,\"force_streaming\":false,\"track_child_runs\":true,\"allowed_private_models\":[],\"label_column_name\":\"label\",\"weight_column_name\":null,\"cv_split_column_names\":null,\"enable_local_managed\":false,\"_local_managed_run_id\":null,\"cost_mode\":1,\"lag_length\":0,\"metric_operation\":\"maximize\",\"preprocess\":true}',\n  'DataPrepJsonString': None,\n  'EnableSubsampling': None,\n  'runTemplate': 'AutoML',\n  'azureml.runsource': 'automl',\n  'display_task_type': 'classification',\n  'dependencies_versions': '{\"azureml-widgets\": \"1.31.0\", \"azureml-train\": \"1.31.0\", \"azureml-train-restclients-hyperdrive\": \"1.31.0\", \"azureml-train-core\": \"1.31.0\", \"azureml-train-automl\": \"1.31.0\", \"azureml-train-automl-runtime\": \"1.31.0\", \"azureml-train-automl-client\": \"1.31.0\", \"azureml-tensorboard\": \"1.31.0\", \"azureml-telemetry\": \"1.31.0\", \"azureml-sdk\": \"1.31.0\", \"azureml-samples\": \"0+unknown\", \"azureml-responsibleai\": \"1.31.0\", \"azureml-pipeline\": \"1.31.0\", \"azureml-pipeline-steps\": \"1.31.0\", \"azureml-pipeline-core\": \"1.31.0\", \"azureml-opendatasets\": \"1.31.0\", \"azureml-model-management-sdk\": \"1.0.1b6.post1\", \"azureml-mlflow\": \"1.31.0\", \"azureml-interpret\": \"1.31.0\", \"azureml-explain-model\": \"1.31.0\", \"azureml-defaults\": \"1.31.0\", \"azureml-dataset-runtime\": \"1.31.0\", \"azureml-dataprep\": \"2.18.0\", \"azureml-dataprep-rslex\": \"1.16.1\", \"azureml-dataprep-native\": \"36.0.0\", \"azureml-datadrift\": \"1.31.0\", \"azureml-core\": \"1.31.0\", \"azureml-contrib-services\": \"1.31.0\", \"azureml-contrib-server\": \"1.31.0\", \"azureml-contrib-reinforcementlearning\": \"1.31.0\", \"azureml-contrib-pipeline-steps\": \"1.31.0\", \"azureml-contrib-notebook\": \"1.31.0\", \"azureml-contrib-fairness\": \"1.31.0\", \"azureml-contrib-dataset\": \"1.31.0\", \"azureml-cli-common\": \"1.31.0\", \"azureml-automl-runtime\": \"1.31.0\", \"azureml-automl-dnn-nlp\": \"1.31.0\", \"azureml-automl-core\": \"1.31.0\", \"azureml-accel-models\": \"1.31.0\"}',\n  '_aml_system_scenario_identification': 'Local.Parent',\n  'ClientSdkVersion': '1.31.0',\n  'ClientType': 'SDK',\n  'environment_cpu_name': 'AzureML-AutoML',\n  'environment_cpu_label': 'prod',\n  'environment_gpu_name': 'AzureML-AutoML-GPU',\n  'environment_gpu_label': 'prod',\n  'root_attribution': 'automl',\n  'attribution': 'AutoML',\n  'Orchestrator': 'AutoML',\n  '_azureml.ComputeTargetType': 'local',\n  'ProblemInfoJsonString': '{\"dataset_num_categorical\": 0, \"is_sparse\": true, \"subsampling\": false, \"has_extra_col\": true, \"dataset_classes\": 10, \"dataset_features\": 2926, \"dataset_samples\": 10000, \"single_frequency_class_detected\": false}'},\n 'inputDatasets': [],\n 'outputDatasets': [],\n 'logFiles': {},\n 'submittedBy': 'Mash N'}"
          },
          "metadata": {}
        }
      ],
      "execution_count": 11,
      "metadata": {
        "collapsed": true,
        "jupyter": {
          "source_hidden": false,
          "outputs_hidden": false
        },
        "nteract": {
          "transient": {
            "deleting": false
          }
        },
        "gather": {
          "logged": 1627366520157
        }
      }
    },
    {
      "cell_type": "markdown",
      "source": [
        "## Best Model\n",
        "\n",
        "Getting  the best model from the automl experiments and display all the properties of the model.\n",
        "\n"
      ],
      "metadata": {}
    },
    {
      "cell_type": "code",
      "source": [
        "best_automl_run = automl_run.get_best_child()\r\n"
      ],
      "outputs": [],
      "execution_count": 13,
      "metadata": {
        "gather": {
          "logged": 1627366571986
        },
        "jupyter": {
          "outputs_hidden": false,
          "source_hidden": false
        },
        "nteract": {
          "transient": {
            "deleting": false
          }
        }
      }
    },
    {
      "cell_type": "code",
      "source": [
        "best_automl_run"
      ],
      "outputs": [
        {
          "output_type": "execute_result",
          "execution_count": 16,
          "data": {
            "text/plain": "Run(Experiment: automl_capstone_exp,\nId: AutoML_2f705b9b-8879-4360-8ccf-2c0d63279de4_3,\nType: None,\nStatus: Completed)",
            "text/html": "<table style=\"width:100%\"><tr><th>Experiment</th><th>Id</th><th>Type</th><th>Status</th><th>Details Page</th><th>Docs Page</th></tr><tr><td>automl_capstone_exp</td><td>AutoML_2f705b9b-8879-4360-8ccf-2c0d63279de4_3</td><td></td><td>Completed</td><td><a href=\"https://ml.azure.com/runs/AutoML_2f705b9b-8879-4360-8ccf-2c0d63279de4_3?wsid=/subscriptions/4aa2e7df-e0fb-4531-86c0-9fde89dcf4fa/resourcegroups/mlrg/workspaces/mltrial&amp;tid=42cd7fae-352f-4a09-a1b8-3cae854e5ad8\" target=\"_blank\" rel=\"noopener\">Link to Azure Machine Learning studio</a></td><td><a href=\"https://docs.microsoft.com/en-us/python/api/azureml-core/azureml.core.run.Run?view=azure-ml-py\" target=\"_blank\" rel=\"noopener\">Link to Documentation</a></td></tr></table>"
          },
          "metadata": {}
        }
      ],
      "execution_count": 16,
      "metadata": {
        "collapsed": true,
        "jupyter": {
          "source_hidden": false,
          "outputs_hidden": false
        },
        "nteract": {
          "transient": {
            "deleting": false
          }
        },
        "gather": {
          "logged": 1627307985863
        }
      }
    },
    {
      "cell_type": "code",
      "source": [
        "best_run_metrics = best_automl_run.get_metrics() # or other runs with runID\r\n",
        "for metric_name in best_run_metrics:\r\n",
        "     metric = best_run_metrics[metric_name]\r\n",
        "     print(metric_name, metric)"
      ],
      "outputs": [
        {
          "output_type": "stream",
          "name": "stdout",
          "text": [
            "f1_score_weighted 0.9466406316599226\n",
            "weighted_accuracy 0.9467200868969089\n",
            "precision_score_weighted 0.9469033319628212\n",
            "average_precision_score_micro 0.9793000123851952\n",
            "average_precision_score_weighted 0.9818169120157325\n",
            "accuracy 0.9465999999999999\n",
            "log_loss 0.211867206630954\n",
            "average_precision_score_macro 0.9815919766787358\n",
            "recall_score_micro 0.9465999999999999\n",
            "recall_score_weighted 0.9465999999999999\n",
            "f1_score_micro 0.9465999999999999\n",
            "AUC_micro 0.9953126055555556\n",
            "AUC_macro 0.9952907637532906\n",
            "AUC_weighted 0.9953422693205942\n",
            "precision_score_micro 0.9465999999999999\n",
            "matthews_correlation 0.9406502555884899\n",
            "precision_score_macro 0.9461385346212907\n",
            "norm_macro_recall 0.9405541126033388\n",
            "f1_score_macro 0.94620649433743\n",
            "recall_score_macro 0.9464987013430048\n",
            "balanced_accuracy 0.9464987013430048\n",
            "confusion_matrix aml://artifactId/ExperimentRun/dcid.AutoML_2f705b9b-8879-4360-8ccf-2c0d63279de4_3/confusion_matrix\n",
            "accuracy_table aml://artifactId/ExperimentRun/dcid.AutoML_2f705b9b-8879-4360-8ccf-2c0d63279de4_3/accuracy_table\n"
          ]
        }
      ],
      "execution_count": 14,
      "metadata": {
        "collapsed": true,
        "jupyter": {
          "source_hidden": false,
          "outputs_hidden": false
        },
        "nteract": {
          "transient": {
            "deleting": false
          }
        },
        "gather": {
          "logged": 1627307964686
        }
      }
    },
    {
      "cell_type": "code",
      "source": [
        "best_automl_run.get_file_names()"
      ],
      "outputs": [
        {
          "output_type": "execute_result",
          "execution_count": 14,
          "data": {
            "text/plain": "['accuracy_table',\n 'confusion_matrix',\n 'explanation/98845a2e/classes.interpret.json',\n 'explanation/98845a2e/eval_data_viz.interpret.json',\n 'explanation/98845a2e/expected_values.interpret.json',\n 'explanation/98845a2e/features.interpret.json',\n 'explanation/98845a2e/global_names/0.interpret.json',\n 'explanation/98845a2e/global_rank/0.interpret.json',\n 'explanation/98845a2e/global_values/0.interpret.json',\n 'explanation/98845a2e/local_importance_values.interpret.json',\n 'explanation/98845a2e/local_importance_viz.interpret.json',\n 'explanation/98845a2e/per_class_names/0.interpret.json',\n 'explanation/98845a2e/per_class_rank/0.interpret.json',\n 'explanation/98845a2e/per_class_values/0.interpret.json',\n 'explanation/98845a2e/rich_metadata.interpret.json',\n 'explanation/98845a2e/true_ys_viz.interpret.json',\n 'explanation/98845a2e/visualization_dict.interpret.json',\n 'explanation/e2066318/classes.interpret.json',\n 'explanation/e2066318/expected_values.interpret.json',\n 'explanation/e2066318/features.interpret.json',\n 'explanation/e2066318/global_names/0.interpret.json',\n 'explanation/e2066318/global_rank/0.interpret.json',\n 'explanation/e2066318/global_values/0.interpret.json',\n 'explanation/e2066318/local_importance_values_sparse.interpret.json',\n 'explanation/e2066318/per_class_names/0.interpret.json',\n 'explanation/e2066318/per_class_rank/0.interpret.json',\n 'explanation/e2066318/per_class_values/0.interpret.json',\n 'explanation/e2066318/rich_metadata.interpret.json',\n 'explanation/e2066318/true_ys_viz.interpret.json',\n 'explanation/e2066318/visualization_dict.interpret.json',\n 'explanation/e2066318/ys_pred_proba_viz.interpret.json',\n 'explanation/e2066318/ys_pred_viz.interpret.json',\n 'outputs/conda_env_v_1_0_0.yml',\n 'outputs/env_dependencies.json',\n 'outputs/internal_cross_validated_models.pkl',\n 'outputs/model.pkl',\n 'outputs/pipeline_graph.json',\n 'outputs/scoring_file_v_1_0_0.py',\n 'outputs/scoring_file_v_2_0_0.py']",
            "text/html": "['accuracy_table', 'confusion_matrix', 'explanation/98845a2e/classes.interpret.json', 'explanation/98845a2e/eval_data_viz.interpret.json', 'explanation/98845a2e/expected_values.interpret.json', 'explanation/98845a2e/features.interpret.json', 'explanation/98845a2e/global_names/0.interpret.json', 'explanation/98845a2e/global_rank/0.interpret.json', 'explanation/98845a2e/global_values/0.interpret.json', 'explanation/98845a2e/local_importance_values.interpret.json', 'explanation/98845a2e/local_importance_viz.interpret.json', 'explanation/98845a2e/per_class_names/0.interpret.json', 'explanation/98845a2e/per_class_rank/0.interpret.json', 'explanation/98845a2e/per_class_values/0.interpret.json', 'explanation/98845a2e/rich_metadata.interpret.json', 'explanation/98845a2e/true_ys_viz.interpret.json', 'explanation/98845a2e/visualization_dict.interpret.json', 'explanation/e2066318/classes.interpret.json', 'explanation/e2066318/expected_values.interpret.json', 'explanation/e2066318/features.interpret.json', 'explanation/e2066318/global_names/0.interpret.json', 'explanation/e2066318/global_rank/0.interpret.json', 'explanation/e2066318/global_values/0.interpret.json', 'explanation/e2066318/local_importance_values_sparse.interpret.json', 'explanation/e2066318/per_class_names/0.interpret.json', 'explanation/e2066318/per_class_rank/0.interpret.json', 'explanation/e2066318/per_class_values/0.interpret.json', 'explanation/e2066318/rich_metadata.interpret.json', 'explanation/e2066318/true_ys_viz.interpret.json', 'explanation/e2066318/visualization_dict.interpret.json', 'explanation/e2066318/ys_pred_proba_viz.interpret.json', 'explanation/e2066318/ys_pred_viz.interpret.json', 'outputs/conda_env_v_1_0_0.yml', 'outputs/env_dependencies.json', 'outputs/internal_cross_validated_models.pkl', 'outputs/model.pkl', 'outputs/pipeline_graph.json', 'outputs/scoring_file_v_1_0_0.py', 'outputs/scoring_file_v_2_0_0.py']"
          },
          "metadata": {}
        }
      ],
      "execution_count": 14,
      "metadata": {
        "collapsed": true,
        "jupyter": {
          "source_hidden": false,
          "outputs_hidden": false
        },
        "nteract": {
          "transient": {
            "deleting": false
          }
        },
        "gather": {
          "logged": 1627367100665
        }
      }
    },
    {
      "cell_type": "code",
      "source": [
        "#TODO: Save the best model in Outputs Folder\r\n",
        "\r\n",
        "outputs_folder = os.path.join(os.getcwd(),'outputs')\r\n",
        "os.makedirs(outputs_folder, exist_ok=True)\r\n",
        "best_automl_run.download_file('outputs/model.pkl', output_file_path='./outputs/')\r\n",
        "#Downloading the Scoring File\r\n",
        "best_automl_run.download_file('outputs/scoring_file_v_1_0_0.py', output_file_path='./outputs/score1.py')\r\n",
        "#downloading the Environment\r\n",
        "best_automl_run.download_file('outputs/conda_env_v_1_0_0.yml', output_file_path='./outputs/env.yaml')\r\n"
      ],
      "outputs": [],
      "execution_count": 15,
      "metadata": {
        "gather": {
          "logged": 1627367227585
        },
        "jupyter": {
          "outputs_hidden": false,
          "source_hidden": false
        },
        "nteract": {
          "transient": {
            "deleting": false
          }
        }
      }
    },
    {
      "cell_type": "markdown",
      "source": [
        "## Model Deployment\n",
        "\n",
        "Remember you have to deploy only one of the two models you trained.. Perform the steps in the rest of this notebook only if you wish to deploy this model.\n",
        "\n",
        "Registering the model, creating an inference config and deploying the model as a web service."
      ],
      "metadata": {}
    },
    {
      "cell_type": "code",
      "source": [
        "#Register the Best model\r\n",
        "model_auto = best_automl_run.register_model(model_name='AUTOML_ATTEMPT',description ='MNIST using AutoML',\r\n",
        "                           model_path='outputs/model.pkl')\r\n"
      ],
      "outputs": [],
      "execution_count": 16,
      "metadata": {
        "gather": {
          "logged": 1627367785177
        },
        "jupyter": {
          "outputs_hidden": false,
          "source_hidden": false
        },
        "nteract": {
          "transient": {
            "deleting": false
          }
        }
      }
    },
    {
      "cell_type": "code",
      "source": [
        "from azureml.core.environment import Environment\r\n",
        "from azureml.core.model import InferenceConfig\r\n",
        "from azureml.core.model import Model\r\n",
        "from azureml.core.webservice import AciWebservice\r\n",
        "from azureml.core.webservice import webservice\r\n",
        "\r\n",
        "infenv = Environment.from_conda_specification(name = \"infenv\", file_path = \"outputs/env.yaml\")\r\n",
        "\r\n",
        "# Combine scoring script & environment in Inference configuration\r\n",
        "inference_config = InferenceConfig(entry_script='outputs/score1.py', \r\n",
        "                                    environment=infenv\r\n",
        "                                    )\r\n",
        "\r\n",
        "# Set deployment configuration\r\n",
        "deployment_config = AciWebservice.deploy_configuration(cpu_cores = 1, memory_gb = 1,tags={'type':'automl-classification'},\r\n",
        "                                                        description='Sample Web Service for AutoML Classification')\r\n",
        "\r\n",
        "aci_service_name = \"automl-classification\"\r\n",
        "print (aci_service_name)\r\n",
        "aci_service = Model.deploy(ws,aci_service_name,[model_auto],inference_config,deployment_config)\r\n",
        "aci_service.wait_for_deployment(True)\r\n",
        "print(aci_service.state)\r\n",
        "\r\n"
      ],
      "outputs": [
        {
          "output_type": "stream",
          "name": "stdout",
          "text": [
            "automl-classification\n",
            "Tips: You can try get_logs(): https://aka.ms/debugimage#dockerlog or local deployment: https://aka.ms/debugimage#debug-locally to debug if deployment takes longer than 10 minutes.\n",
            "Running\n",
            "2021-07-27 10:26:51+00:00 Creating Container Registry if not exists.\n",
            "2021-07-27 10:26:51+00:00 Registering the environment.\n",
            "2021-07-27 10:26:54+00:00 Use the existing image.\n",
            "2021-07-27 10:26:55+00:00 Generating deployment configuration.\n",
            "2021-07-27 10:26:56+00:00 Submitting deployment to compute.\n",
            "2021-07-27 10:26:59+00:00 Checking the status of deployment automl-classification..\n",
            "2021-07-27 10:31:19+00:00 Checking the status of inference endpoint automl-classification.\n",
            "Succeeded\n",
            "ACI service creation operation finished, operation \"Succeeded\"\n",
            "Healthy\n"
          ]
        }
      ],
      "execution_count": 54,
      "metadata": {
        "collapsed": true,
        "jupyter": {
          "source_hidden": false,
          "outputs_hidden": false
        },
        "nteract": {
          "transient": {
            "deleting": false
          }
        },
        "gather": {
          "logged": 1627381874864
        }
      }
    },
    {
      "cell_type": "markdown",
      "source": [
        "Sending a request to the web service  deployed to test it."
      ],
      "metadata": {
        "collapsed": true,
        "gather": {
          "logged": 1598431657736
        },
        "jupyter": {
          "outputs_hidden": false,
          "source_hidden": false
        },
        "nteract": {
          "transient": {
            "deleting": false
          }
        }
      }
    },
    {
      "cell_type": "code",
      "source": [
        "#Create the holdout set as a subset from the Train file.\r\n",
        "#First 10000 used for training\r\n",
        "#Remaining is being used for testing\r\n",
        "validation =pd.read_csv('./data/train.csv',skiprows=[1,9999])\r\n",
        "validation_labels = validation['label']\r\n",
        "validation.drop(columns=['label'],axis=1,inplace=True)\r\n",
        "\r\n",
        "test_sample = json.dumps({\"data\":validation.tail(100).to_dict(orient='records')})\r\n",
        "response = aci_service.run(test_sample)\r\n",
        "response"
      ],
      "outputs": [
        {
          "output_type": "execute_result",
          "execution_count": 58,
          "data": {
            "text/plain": "'{\"result\": [2, 7, 2, 7, 2, 7, 7, 7, 7, 9, 2, 2, 7, 2, 7, 5, 2, 5, 2, 2, 2, 2, 2, 7, 9, 2, 7, 2, 2, 9, 5, 5, 1, 2, 2, 2, 2, 2, 1, 2, 2, 7, 2, 6, 7, 9, 2, 2, 7, 7, 2, 5, 5, 2, 5, 2, 2, 7, 5, 2, 2, 9, 7, 2, 2, 2, 2, 2, 2, 7, 5, 7, 6, 2, 7, 2, 2, 2, 2, 2, 7, 5, 7, 7, 2, 7, 2, 7, 2, 7, 7, 2, 2, 2, 2, 5, 2, 7, 2, 2]}'"
          },
          "metadata": {}
        }
      ],
      "execution_count": 58,
      "metadata": {
        "collapsed": true,
        "jupyter": {
          "source_hidden": false,
          "outputs_hidden": false
        },
        "nteract": {
          "transient": {
            "deleting": false
          }
        },
        "gather": {
          "logged": 1627388415790
        }
      }
    },
    {
      "cell_type": "code",
      "source": [
        "res_dict = json.loads(response)\r\n",
        "Predicted_label=pd.Series(res_dict['result'])\r\n",
        "from sklearn.metrics import accuracy_score,confusion_matrix\r\n",
        "print(accuracy_score(validation_labels.head(100),Predicted_label))\r\n",
        "print(confusion_matrix(validation_labels.head(100),Predicted_label,labels=[0,1,2,3,4,5,6,7,8,9]))"
      ],
      "outputs": [
        {
          "output_type": "stream",
          "name": "stdout",
          "text": [
            "0.07\n",
            "[[ 0  0  6  0  0  0  0  3  0  0]\n",
            " [ 0  0 10  0  0  3  0  2  0  0]\n",
            " [ 0  0  5  0  0  2  2  2  0  0]\n",
            " [ 0  0  4  0  0  0  0  5  0  2]\n",
            " [ 0  1  5  0  0  1  0  4  0  0]\n",
            " [ 0  0  4  0  0  0  0  1  0  1]\n",
            " [ 0  0  6  0  0  0  0  3  0  0]\n",
            " [ 0  0  4  0  0  1  0  2  0  0]\n",
            " [ 0  0  3  0  0  1  0  0  0  2]\n",
            " [ 0  1  6  0  0  3  0  5  0  0]]\n"
          ]
        }
      ],
      "execution_count": 59,
      "metadata": {
        "collapsed": true,
        "jupyter": {
          "source_hidden": false,
          "outputs_hidden": false
        },
        "nteract": {
          "transient": {
            "deleting": false
          }
        },
        "gather": {
          "logged": 1627388424745
        }
      }
    },
    {
      "cell_type": "markdown",
      "source": [
        "TODO: In the cell below, print the logs of the web service and delete the service"
      ],
      "metadata": {
        "collapsed": true,
        "gather": {
          "logged": 1598432765711
        },
        "jupyter": {
          "outputs_hidden": false,
          "source_hidden": false
        },
        "nteract": {
          "transient": {
            "deleting": false
          }
        }
      }
    },
    {
      "cell_type": "code",
      "source": [
        "aci_service.get_logs(num_lines=5000, init=False)"
      ],
      "outputs": [
        {
          "output_type": "execute_result",
          "execution_count": 57,
          "data": {
            "text/plain": "'2021-07-27T10:31:04,364936900+00:00 - gunicorn/run \\nFile not found: /var/azureml-app/.\\nStarting HTTP server\\n2021-07-27T10:31:04,381623900+00:00 - iot-server/run \\n2021-07-27T10:31:04,404625000+00:00 - rsyslog/run \\n2021-07-27T10:31:04,426022600+00:00 - nginx/run \\nrsyslogd: /azureml-envs/azureml_ffca93d35d9c1e4301d618d3ed7dacc8/lib/libuuid.so.1: no version information available (required by rsyslogd)\\nEdgeHubConnectionString and IOTEDGE_IOTHUBHOSTNAME are not set. Exiting...\\n2021-07-27T10:31:04,738348000+00:00 - iot-server/finish 1 0\\n2021-07-27T10:31:04,745955600+00:00 - Exit code 1 is normal. Not restarting iot-server.\\nStarting gunicorn 20.1.0\\nListening at: http://127.0.0.1:31311 (60)\\nUsing worker: sync\\nworker timeout is set to 300\\nBooting worker with pid: 88\\nSPARK_HOME not set. Skipping PySpark Initialization.\\nGenerating new fontManager, this may take some time...\\nInitializing logger\\n2021-07-27 10:31:08,228 | root | INFO | Starting up app insights client\\nlogging socket was found. logging is available.\\nlogging socket was found. logging is available.\\n2021-07-27 10:31:08,228 | root | INFO | Starting up request id generator\\n2021-07-27 10:31:08,228 | root | INFO | Starting up app insight hooks\\n2021-07-27 10:31:08,228 | root | INFO | Invoking user\\'s init function\\n2021-07-27 10:31:13,788 | azureml.core | WARNING | Failure while loading azureml_run_type_providers. Failed to load entrypoint automl = azureml.train.automl.run:AutoMLRun._from_run_dto with exception cannot import name \\'RunType\\'.\\nFailure while loading azureml_run_type_providers. Failed to load entrypoint automl = azureml.train.automl.run:AutoMLRun._from_run_dto with exception cannot import name \\'RunType\\'.\\n2021-07-27 10:31:14,008 | root | INFO | Users\\'s init has completed successfully\\n2021-07-27 10:31:14,029 | root | INFO | Skipping middleware: dbg_model_info as it\\'s not enabled.\\n2021-07-27 10:31:14,030 | root | INFO | Skipping middleware: dbg_resource_usage as it\\'s not enabled.\\n2021-07-27 10:31:14,057 | root | INFO | Scoring timeout is found from os.environ: 60000 ms\\n2021-07-27 10:31:19,392 | root | INFO | 200\\n127.0.0.1 - - [27/Jul/2021:10:31:19 +0000] \"GET /swagger.json HTTP/1.0\" 200 63598 \"-\" \"Go-http-client/1.1\"\\n2021-07-27 10:31:23,886 | root | INFO | 200\\n127.0.0.1 - - [27/Jul/2021:10:31:23 +0000] \"GET /swagger.json HTTP/1.0\" 200 63598 \"-\" \"Go-http-client/1.1\"\\n2021-07-27 10:31:26,836 | root | INFO | Validation Request Content-Type\\n2021-07-27 10:31:26,892 | root | INFO | Scoring Timer is set to 60.0 seconds\\n2021-07-27 10:31:31,156 | root | INFO | 200\\n127.0.0.1 - - [27/Jul/2021:10:31:31 +0000] \"POST /score HTTP/1.0\" 200 316 \"-\" \"python-requests/2.25.1\"\\n'"
          },
          "metadata": {}
        }
      ],
      "execution_count": 57,
      "metadata": {
        "jupyter": {
          "outputs_hidden": false,
          "source_hidden": false
        },
        "nteract": {
          "transient": {
            "deleting": false
          }
        },
        "gather": {
          "logged": 1627381882614
        }
      }
    },
    {
      "cell_type": "code",
      "source": [
        "#Deleting the WebService\r\n",
        "aci_service.delete()"
      ],
      "outputs": [],
      "execution_count": 53,
      "metadata": {
        "collapsed": true,
        "jupyter": {
          "source_hidden": false,
          "outputs_hidden": false
        },
        "nteract": {
          "transient": {
            "deleting": false
          }
        },
        "gather": {
          "logged": 1627381468158
        }
      }
    }
  ],
  "metadata": {
    "kernel_info": {
      "name": "python3"
    },
    "kernelspec": {
      "name": "python3",
      "language": "python",
      "display_name": "Python 3"
    },
    "language_info": {
      "name": "python",
      "version": "3.6.9",
      "mimetype": "text/x-python",
      "codemirror_mode": {
        "name": "ipython",
        "version": 3
      },
      "pygments_lexer": "ipython3",
      "nbconvert_exporter": "python",
      "file_extension": ".py"
    },
    "nteract": {
      "version": "nteract-front-end@1.0.0"
    },
    "microsoft": {
      "host": {
        "AzureML": {
          "notebookHasBeenCompleted": true
        }
      }
    }
  },
  "nbformat": 4,
  "nbformat_minor": 2
}